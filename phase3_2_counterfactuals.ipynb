{
 "cells": [
  {
   "cell_type": "markdown",
   "id": "03348e57",
   "metadata": {},
   "source": [
    "# Phase 3.2: Counterfactual Explanation Generation\n",
    "## Task: Generate counterfactuals to switch class predictions with realistic operational bounds"
   ]
  },
  {
   "cell_type": "code",
   "execution_count": 1,
   "id": "d6465729",
   "metadata": {},
   "outputs": [
    {
     "name": "stdout",
     "output_type": "stream",
     "text": [
      "Note: you may need to restart the kernel to use updated packages.\n",
      "Note: you may need to restart the kernel to use updated packages.\n",
      "Note: you may need to restart the kernel to use updated packages.\n",
      "Note: you may need to restart the kernel to use updated packages.\n",
      "✅ Installation complete. Please restart kernel if needed.\n"
     ]
    }
   ],
   "source": [
    "# Install required packages for counterfactual generation\n",
    "%pip install dice-ml --quiet\n",
    "%pip install tensorflow --quiet\n",
    "%pip install scikit-learn --quiet\n",
    "%pip install pandas numpy matplotlib --quiet\n",
    "\n",
    "# Alternative installation if dice-ml fails\n",
    "# %pip install git+https://github.com/interpretml/DiCE.git --quiet\n",
    "\n",
    "print(\"✅ Installation complete. Please restart kernel if needed.\")"
   ]
  },
  {
   "cell_type": "code",
   "execution_count": 1,
   "id": "fb060be5",
   "metadata": {},
   "outputs": [
    {
     "name": "stdout",
     "output_type": "stream",
     "text": [
      "✅ DiCE ML imported successfully\n",
      "✅ Core libraries imported successfully\n"
     ]
    }
   ],
   "source": [
    "import numpy as np\n",
    "import pandas as pd\n",
    "import torch\n",
    "import torch.nn as nn\n",
    "from sklearn.model_selection import train_test_split\n",
    "from sklearn.preprocessing import StandardScaler\n",
    "import matplotlib.pyplot as plt\n",
    "import warnings\n",
    "warnings.filterwarnings('ignore')\n",
    "\n",
    "# Try to import dice_ml with error handling\n",
    "try:\n",
    "    import dice_ml\n",
    "    from dice_ml import Dice\n",
    "    print(\"✅ DiCE ML imported successfully\")\n",
    "    DICE_AVAILABLE = True\n",
    "except ImportError as e:\n",
    "    print(f\"⚠️ DiCE ML not available: {e}\")\n",
    "    print(\"Will use alternative counterfactual generation method\")\n",
    "    DICE_AVAILABLE = False\n",
    "\n",
    "print(\"✅ Core libraries imported successfully\")"
   ]
  },
  {
   "cell_type": "code",
   "execution_count": 2,
   "id": "572a1132",
   "metadata": {},
   "outputs": [
    {
     "name": "stdout",
     "output_type": "stream",
     "text": [
      "📊 Loading dataset from Phase 1...\n",
      "Dataset shape: (41000, 111)\n",
      "Number of features: 111\n",
      "Class distribution: [23395 17605]\n",
      "Dataset shape: (41000, 111)\n",
      "Number of features: 111\n",
      "Class distribution: [23395 17605]\n"
     ]
    }
   ],
   "source": [
    "# Load the prepared dataset from Phase 1\n",
    "print(\"📊 Loading dataset from Phase 1...\")\n",
    "\n",
    "load_df = pd.read_excel(\"load_scenarios.xlsx\")\n",
    "cont_df = pd.read_csv(\"n1_contingency_balanced_filled_complete.csv\")\n",
    "cont_df = cont_df[cont_df['Scenario'] < 1000].reset_index(drop=True)\n",
    "\n",
    "# Extract features\n",
    "load_features = load_df[[\"P_mw\", \"Q_mvar\"]].values\n",
    "load_features = load_features.reshape(1000, 40)\n",
    "load_features_expanded = np.repeat(load_features, 41, axis=0)\n",
    "\n",
    "bus_cols = [col for col in cont_df.columns if col.startswith(\"V_bus_\")]\n",
    "line_cols = [col for col in cont_df.columns if col.startswith(\"Loading_line_\")]\n",
    "voltages = cont_df[bus_cols].values.astype(np.float32)\n",
    "line_flows = cont_df[line_cols].values.astype(np.float32)\n",
    "\n",
    "# Combine features\n",
    "X = np.concatenate([load_features_expanded, voltages, line_flows], axis=1)\n",
    "y = cont_df['Severity'].values.astype(np.int64)\n",
    "\n",
    "# Create feature names\n",
    "feature_names = []\n",
    "for i in range(20):\n",
    "    feature_names.extend([f\"P_load_{i}\", f\"Q_load_{i}\"])\n",
    "feature_names.extend([f\"V_bus_{i}\" for i in range(len(bus_cols))])\n",
    "feature_names.extend([f\"Loading_line_{i}\" for i in range(len(line_cols))])\n",
    "\n",
    "print(f\"Dataset shape: {X.shape}\")\n",
    "print(f\"Number of features: {len(feature_names)}\")\n",
    "print(f\"Class distribution: {np.bincount(y)}\")"
   ]
  },
  {
   "cell_type": "code",
   "execution_count": 3,
   "id": "ce2025c8",
   "metadata": {},
   "outputs": [
    {
     "name": "stdout",
     "output_type": "stream",
     "text": [
      "🔧 Preparing data for counterfactual generation...\n",
      "Training set size: 32800\n",
      "Test set size: 8200\n",
      "✅ Data preparation complete\n"
     ]
    }
   ],
   "source": [
    "# Prepare data for DiCE (requires pandas DataFrame)\n",
    "print(\"🔧 Preparing data for counterfactual generation...\")\n",
    "\n",
    "# Create DataFrame with feature names\n",
    "df = pd.DataFrame(X, columns=feature_names)\n",
    "df['severity'] = y\n",
    "\n",
    "# Split into train and test\n",
    "train_df, test_df = train_test_split(df, test_size=0.2, random_state=42, stratify=y)\n",
    "\n",
    "print(f\"Training set size: {len(train_df)}\")\n",
    "print(f\"Test set size: {len(test_df)}\")\n",
    "\n",
    "# Define continuous and categorical features\n",
    "continuous_features = feature_names  # All our features are continuous\n",
    "categorical_features = []\n",
    "\n",
    "# Define operational bounds for power system features\n",
    "bounds = {\n",
    "    # Load bounds (±20% variation from original)\n",
    "    **{f\"P_load_{i}\": (0.1, 2.0) for i in range(20)},\n",
    "    **{f\"Q_load_{i}\": (0.05, 1.5) for i in range(20)},\n",
    "    # Voltage bounds (0.95 to 1.05 p.u. - typical operating range)\n",
    "    **{f\"V_bus_{i}\": (0.95, 1.05) for i in range(len(bus_cols))},\n",
    "    # Line loading bounds (0% to 100%)\n",
    "    **{f\"Loading_line_{i}\": (0.0, 100.0) for i in range(len(line_cols))}\n",
    "}\n",
    "\n",
    "print(\"✅ Data preparation complete\")"
   ]
  },
  {
   "cell_type": "code",
   "execution_count": 4,
   "id": "2d832f72",
   "metadata": {},
   "outputs": [
    {
     "name": "stdout",
     "output_type": "stream",
     "text": [
      "🤖 Training surrogate model for counterfactual generation...\n",
      "Surrogate model accuracy: 0.9987\n",
      "\n",
      "Classification Report:\n",
      "              precision    recall  f1-score   support\n",
      "\n",
      "           0       1.00      1.00      1.00      4679\n",
      "           1       1.00      1.00      1.00      3521\n",
      "\n",
      "    accuracy                           1.00      8200\n",
      "   macro avg       1.00      1.00      1.00      8200\n",
      "weighted avg       1.00      1.00      1.00      8200\n",
      "\n",
      "Surrogate model accuracy: 0.9987\n",
      "\n",
      "Classification Report:\n",
      "              precision    recall  f1-score   support\n",
      "\n",
      "           0       1.00      1.00      1.00      4679\n",
      "           1       1.00      1.00      1.00      3521\n",
      "\n",
      "    accuracy                           1.00      8200\n",
      "   macro avg       1.00      1.00      1.00      8200\n",
      "weighted avg       1.00      1.00      1.00      8200\n",
      "\n"
     ]
    }
   ],
   "source": [
    "# Create a simple model wrapper for DiCE\n",
    "from sklearn.ensemble import RandomForestClassifier\n",
    "from sklearn.metrics import accuracy_score, classification_report\n",
    "\n",
    "print(\"🤖 Training surrogate model for counterfactual generation...\")\n",
    "\n",
    "# Prepare features and target\n",
    "X_train = train_df.drop('severity', axis=1)\n",
    "y_train = train_df['severity']\n",
    "X_test = test_df.drop('severity', axis=1)\n",
    "y_test = test_df['severity']\n",
    "\n",
    "# Scale features\n",
    "scaler = StandardScaler()\n",
    "X_train_scaled = scaler.fit_transform(X_train)\n",
    "X_test_scaled = scaler.transform(X_test)\n",
    "\n",
    "# Train a Random Forest model (works well with DiCE)\n",
    "model = RandomForestClassifier(n_estimators=100, random_state=42, max_depth=10)\n",
    "model.fit(X_train_scaled, y_train)\n",
    "\n",
    "# Evaluate model\n",
    "y_pred = model.predict(X_test_scaled)\n",
    "accuracy = accuracy_score(y_test, y_pred)\n",
    "print(f\"Surrogate model accuracy: {accuracy:.4f}\")\n",
    "print(\"\\nClassification Report:\")\n",
    "print(classification_report(y_test, y_pred))"
   ]
  },
  {
   "cell_type": "code",
   "execution_count": 5,
   "id": "3eabfaec",
   "metadata": {},
   "outputs": [
    {
     "name": "stdout",
     "output_type": "stream",
     "text": [
      "✅ DiCE explainer created successfully\n"
     ]
    }
   ],
   "source": [
    "# Create model wrapper and counterfactual generator\n",
    "if DICE_AVAILABLE:\n",
    "    # Use DiCE if available\n",
    "    class SklearnModelWrapper:\n",
    "        def __init__(self, model, scaler):\n",
    "            self.model = model\n",
    "            self.scaler = scaler\n",
    "        \n",
    "        def predict(self, X):\n",
    "            if isinstance(X, pd.DataFrame):\n",
    "                X = X.values\n",
    "            X_scaled = self.scaler.transform(X)\n",
    "            return self.model.predict(X_scaled)\n",
    "        \n",
    "        def predict_proba(self, X):\n",
    "            if isinstance(X, pd.DataFrame):\n",
    "                X = X.values\n",
    "            X_scaled = self.scaler.transform(X)\n",
    "            return self.model.predict_proba(X_scaled)\n",
    "\n",
    "    model_wrapper = SklearnModelWrapper(model, scaler)\n",
    "\n",
    "    # Create DiCE data object\n",
    "    dice_data = dice_ml.Data(\n",
    "        dataframe=train_df,\n",
    "        continuous_features=continuous_features,\n",
    "        outcome_name='severity'\n",
    "    )\n",
    "\n",
    "    # Create DiCE model object\n",
    "    dice_model = dice_ml.Model(\n",
    "        model=model_wrapper,\n",
    "        backend='sklearn'\n",
    "    )\n",
    "\n",
    "    # Create DiCE explainer\n",
    "    explainer = Dice(dice_data, dice_model, method='random')\n",
    "    print(\"✅ DiCE explainer created successfully\")\n",
    "    \n",
    "else:\n",
    "    # Enhanced counterfactual generation with multiple strategies\n",
    "    from scipy.optimize import minimize\n",
    "    \n",
    "    class EnhancedCounterfactualGenerator:\n",
    "        def __init__(self, model, scaler, feature_names, bounds):\n",
    "            self.model = model\n",
    "            self.scaler = scaler\n",
    "            self.feature_names = feature_names\n",
    "            self.bounds = bounds\n",
    "            \n",
    "        def generate_counterfactuals(self, query_instance, total_CFs=10, desired_class=1, \n",
    "                                   features_to_vary='all', max_attempts=50):\n",
    "            \"\"\"Enhanced counterfactual generation with multiple strategies\"\"\"\n",
    "            query_scaled = self.scaler.transform(query_instance.values)\n",
    "            original_pred = self.model.predict_proba(query_scaled)[0]\n",
    "            original_class = np.argmax(original_pred)\n",
    "            \n",
    "            print(f\"Original prediction: {original_pred}, class: {original_class}\")\n",
    "            \n",
    "            counterfactuals = []\n",
    "            attempts = 0\n",
    "            \n",
    "            while len(counterfactuals) < total_CFs and attempts < max_attempts:\n",
    "                attempts += 1\n",
    "                \n",
    "                # Strategy 1: Random perturbation with varying magnitudes\n",
    "                success = self._try_random_perturbation(query_instance, desired_class, counterfactuals)\n",
    "                if success:\n",
    "                    continue\n",
    "                    \n",
    "                # Strategy 2: Targeted feature modification\n",
    "                success = self._try_targeted_modification(query_instance, desired_class, counterfactuals)\n",
    "                if success:\n",
    "                    continue\n",
    "                    \n",
    "                # Strategy 3: Optimization-based approach with multiple starting points\n",
    "                success = self._try_optimization_approach(query_instance, desired_class, counterfactuals)\n",
    "                if success:\n",
    "                    continue\n",
    "                    \n",
    "                # Strategy 4: Gradient-based perturbation\n",
    "                success = self._try_gradient_based(query_instance, desired_class, counterfactuals)\n",
    "                \n",
    "            print(f\"Generated {len(counterfactuals)} counterfactuals in {attempts} attempts\")\n",
    "            \n",
    "            # Return mock DiCE-like object\n",
    "            class MockCFExamples:\n",
    "                def __init__(self, cfs):\n",
    "                    self.cf_examples_list = [pd.concat(cfs, ignore_index=True) if cfs else None]\n",
    "            \n",
    "            return MockCFExamples(counterfactuals)\n",
    "        \n",
    "        def _try_random_perturbation(self, query_instance, desired_class, counterfactuals):\n",
    "            \"\"\"Try random perturbation with varying noise levels\"\"\"\n",
    "            for noise_scale in [0.05, 0.1, 0.2, 0.3]:\n",
    "                perturbed = query_instance.values[0].copy()\n",
    "                \n",
    "                # Select random subset of features to modify\n",
    "                n_features_to_change = np.random.randint(5, min(20, len(self.feature_names)))\n",
    "                features_to_change = np.random.choice(len(self.feature_names), \n",
    "                                                    n_features_to_change, replace=False)\n",
    "                \n",
    "                for j in features_to_change:\n",
    "                    feature = self.feature_names[j]\n",
    "                    if feature in self.bounds:\n",
    "                        min_val, max_val = self.bounds[feature]\n",
    "                        current_val = perturbed[j]\n",
    "                        \n",
    "                        # Use different noise distributions\n",
    "                        if np.random.random() < 0.5:\n",
    "                            noise = np.random.normal(0, noise_scale) * current_val\n",
    "                        else:\n",
    "                            noise = np.random.uniform(-noise_scale, noise_scale) * current_val\n",
    "                        \n",
    "                        perturbed[j] = np.clip(current_val + noise, min_val, max_val)\n",
    "                \n",
    "                if self._check_and_add_counterfactual(perturbed, desired_class, counterfactuals):\n",
    "                    return True\n",
    "            return False\n",
    "        \n",
    "        def _try_targeted_modification(self, query_instance, desired_class, counterfactuals):\n",
    "            \"\"\"Modify specific feature types that are most likely to change class\"\"\"\n",
    "            perturbed = query_instance.values[0].copy()\n",
    "            \n",
    "            # Focus on different feature types\n",
    "            feature_groups = {\n",
    "                'load': [i for i, name in enumerate(self.feature_names) if 'load' in name],\n",
    "                'voltage': [i for i, name in enumerate(self.feature_names) if 'V_bus' in name],\n",
    "                'flow': [i for i, name in enumerate(self.feature_names) if 'Loading' in name]\n",
    "            }\n",
    "            \n",
    "            # Try modifying each group\n",
    "            for group_name, indices in feature_groups.items():\n",
    "                if not indices:\n",
    "                    continue\n",
    "                    \n",
    "                # Select subset of features from this group\n",
    "                n_to_modify = min(np.random.randint(2, 8), len(indices))\n",
    "                selected_indices = np.random.choice(indices, n_to_modify, replace=False)\n",
    "                \n",
    "                for j in selected_indices:\n",
    "                    feature = self.feature_names[j]\n",
    "                    if feature in self.bounds:\n",
    "                        min_val, max_val = self.bounds[feature]\n",
    "                        current_val = perturbed[j]\n",
    "                        \n",
    "                        # Apply group-specific modifications\n",
    "                        if group_name == 'load':\n",
    "                            # For loads, try both increase and decrease\n",
    "                            factor = np.random.choice([0.7, 0.8, 1.2, 1.3, 1.5])\n",
    "                            new_val = current_val * factor\n",
    "                        elif group_name == 'voltage':\n",
    "                            # For voltages, small changes can have big impact\n",
    "                            change = np.random.uniform(-0.03, 0.03)\n",
    "                            new_val = current_val + change\n",
    "                        else:  # flow\n",
    "                            # For line flows, try reducing or increasing loading\n",
    "                            factor = np.random.choice([0.5, 0.6, 1.4, 1.6, 1.8])\n",
    "                            new_val = current_val * factor\n",
    "                        \n",
    "                        perturbed[j] = np.clip(new_val, min_val, max_val)\n",
    "                \n",
    "                if self._check_and_add_counterfactual(perturbed, desired_class, counterfactuals):\n",
    "                    return True\n",
    "            \n",
    "            return False\n",
    "        \n",
    "        def _try_optimization_approach(self, query_instance, desired_class, counterfactuals):\n",
    "            \"\"\"Enhanced optimization with multiple starting points\"\"\"\n",
    "            for attempt in range(3):  # Multiple starting points\n",
    "                # Create different starting points\n",
    "                if attempt == 0:\n",
    "                    start_point = query_instance.values[0].copy()\n",
    "                else:\n",
    "                    start_point = query_instance.values[0].copy()\n",
    "                    # Add small random perturbation to starting point\n",
    "                    for j in range(len(start_point)):\n",
    "                        if self.feature_names[j] in self.bounds:\n",
    "                            min_val, max_val = self.bounds[self.feature_names[j]]\n",
    "                            noise = np.random.normal(0, 0.05) * start_point[j]\n",
    "                            start_point[j] = np.clip(start_point[j] + noise, min_val, max_val)\n",
    "                \n",
    "                def objective(x):\n",
    "                    try:\n",
    "                        x_scaled = self.scaler.transform(x.reshape(1, -1))\n",
    "                        pred_proba = self.model.predict_proba(x_scaled)[0]\n",
    "                        \n",
    "                        # Weighted objective: maximize target class prob + minimize distance\n",
    "                        target_prob = pred_proba[desired_class]\n",
    "                        distance_penalty = np.linalg.norm(x - query_instance.values[0]) * 0.01\n",
    "                        \n",
    "                        return -(target_prob - distance_penalty)\n",
    "                    except:\n",
    "                        return 1000  # Large penalty for invalid inputs\n",
    "                \n",
    "                # Set bounds for optimization\n",
    "                opt_bounds = []\n",
    "                for j, feature in enumerate(self.feature_names):\n",
    "                    if feature in self.bounds:\n",
    "                        opt_bounds.append(self.bounds[feature])\n",
    "                    else:\n",
    "                        # Use data-driven bounds if no explicit bounds\n",
    "                        min_val = start_point[j] * 0.5\n",
    "                        max_val = start_point[j] * 1.5\n",
    "                        opt_bounds.append((min_val, max_val))\n",
    "                \n",
    "                try:\n",
    "                    # Try different optimization methods\n",
    "                    methods = ['L-BFGS-B', 'SLSQP']\n",
    "                    for method in methods:\n",
    "                        result = minimize(\n",
    "                            objective,\n",
    "                            start_point,\n",
    "                            method=method,\n",
    "                            bounds=opt_bounds,\n",
    "                            options={'maxiter': 200, 'ftol': 1e-6}\n",
    "                        )\n",
    "                        \n",
    "                        if result.success:\n",
    "                            if self._check_and_add_counterfactual(result.x, desired_class, counterfactuals):\n",
    "                                return True\n",
    "                except:\n",
    "                    continue\n",
    "            \n",
    "            return False\n",
    "        \n",
    "        def _try_gradient_based(self, query_instance, desired_class, counterfactuals):\n",
    "            \"\"\"Gradient-based perturbation using feature importance\"\"\"\n",
    "            try:\n",
    "                # Get feature importances if available\n",
    "                if hasattr(self.model, 'feature_importances_'):\n",
    "                    importances = self.model.feature_importances_\n",
    "                else:\n",
    "                    # Use random weights as fallback\n",
    "                    importances = np.random.random(len(self.feature_names))\n",
    "                \n",
    "                perturbed = query_instance.values[0].copy()\n",
    "                \n",
    "                # Select features based on importance\n",
    "                top_features = np.argsort(importances)[-20:]  # Top 20 important features\n",
    "                \n",
    "                for j in top_features:\n",
    "                    feature = self.feature_names[j]\n",
    "                    if feature in self.bounds:\n",
    "                        min_val, max_val = self.bounds[feature]\n",
    "                        current_val = perturbed[j]\n",
    "                        importance = importances[j]\n",
    "                        \n",
    "                        # Scale change by importance\n",
    "                        change_magnitude = importance * np.random.uniform(0.1, 0.4)\n",
    "                        direction = np.random.choice([-1, 1])\n",
    "                        \n",
    "                        new_val = current_val + direction * change_magnitude * current_val\n",
    "                        perturbed[j] = np.clip(new_val, min_val, max_val)\n",
    "                \n",
    "                return self._check_and_add_counterfactual(perturbed, desired_class, counterfactuals)\n",
    "            except:\n",
    "                return False\n",
    "        \n",
    "        def _check_and_add_counterfactual(self, perturbed, desired_class, counterfactuals):\n",
    "            \"\"\"Check if perturbed instance achieves desired class and add to list\"\"\"\n",
    "            try:\n",
    "                perturbed_scaled = self.scaler.transform(perturbed.reshape(1, -1))\n",
    "                new_pred = self.model.predict_proba(perturbed_scaled)[0]\n",
    "                predicted_class = np.argmax(new_pred)\n",
    "                \n",
    "                if predicted_class == desired_class:\n",
    "                    # Additional check: ensure confidence is reasonable\n",
    "                    if new_pred[desired_class] > 0.6:  # At least 60% confidence\n",
    "                        cf_df = pd.DataFrame(perturbed.reshape(1, -1), columns=self.feature_names)\n",
    "                        counterfactuals.append(cf_df)\n",
    "                        return True\n",
    "            except:\n",
    "                pass\n",
    "            return False\n",
    "\n",
    "    explainer = EnhancedCounterfactualGenerator(model, scaler, feature_names, bounds)\n",
    "    print(\"✅ Enhanced counterfactual generator created successfully\")"
   ]
  },
  {
   "cell_type": "code",
   "execution_count": 6,
   "id": "d9995ff8",
   "metadata": {},
   "outputs": [
    {
     "name": "stdout",
     "output_type": "stream",
     "text": [
      "🔄 Generating counterfactuals with enhanced method...\n",
      "Generating counterfactuals for stable instances...\n"
     ]
    },
    {
     "name": "stderr",
     "output_type": "stream",
     "text": [
      "  0%|          | 0/1 [00:00<?, ?it/s]"
     ]
    },
    {
     "name": "stderr",
     "output_type": "stream",
     "text": [
      "100%|██████████| 1/1 [00:03<00:00,  3.54s/it]\n",
      "100%|██████████| 1/1 [00:03<00:00,  3.54s/it]\n"
     ]
    },
    {
     "name": "stdout",
     "output_type": "stream",
     "text": [
      "✅ Generated 8 counterfactuals for stable instance 0\n"
     ]
    },
    {
     "name": "stderr",
     "output_type": "stream",
     "text": [
      "100%|██████████| 1/1 [00:04<00:00,  4.00s/it]\n",
      "\n"
     ]
    },
    {
     "name": "stdout",
     "output_type": "stream",
     "text": [
      "✅ Generated 8 counterfactuals for stable instance 1\n"
     ]
    },
    {
     "name": "stderr",
     "output_type": "stream",
     "text": [
      "100%|██████████| 1/1 [00:05<00:00,  5.44s/it]\n",
      "100%|██████████| 1/1 [00:05<00:00,  5.44s/it]\n"
     ]
    },
    {
     "name": "stdout",
     "output_type": "stream",
     "text": [
      "✅ Generated 8 counterfactuals for stable instance 2\n"
     ]
    },
    {
     "name": "stderr",
     "output_type": "stream",
     "text": [
      "100%|██████████| 1/1 [00:03<00:00,  3.41s/it]\n",
      "\n"
     ]
    },
    {
     "name": "stdout",
     "output_type": "stream",
     "text": [
      "✅ Generated 8 counterfactuals for stable instance 3\n"
     ]
    },
    {
     "name": "stderr",
     "output_type": "stream",
     "text": [
      "100%|██████████| 1/1 [00:03<00:00,  3.82s/it]\n",
      "100%|██████████| 1/1 [00:03<00:00,  3.82s/it]\n"
     ]
    },
    {
     "name": "stdout",
     "output_type": "stream",
     "text": [
      "✅ Generated 8 counterfactuals for stable instance 4\n"
     ]
    },
    {
     "name": "stderr",
     "output_type": "stream",
     "text": [
      "100%|██████████| 1/1 [00:03<00:00,  3.59s/it]\n",
      "100%|██████████| 1/1 [00:03<00:00,  3.59s/it]\n"
     ]
    },
    {
     "name": "stdout",
     "output_type": "stream",
     "text": [
      "✅ Generated 8 counterfactuals for stable instance 5\n"
     ]
    },
    {
     "name": "stderr",
     "output_type": "stream",
     "text": [
      "100%|██████████| 1/1 [01:53<00:00, 113.82s/it]\n",
      "100%|██████████| 1/1 [01:53<00:00, 113.82s/it]\n"
     ]
    },
    {
     "name": "stdout",
     "output_type": "stream",
     "text": [
      "✅ Generated 8 counterfactuals for stable instance 6\n"
     ]
    },
    {
     "name": "stderr",
     "output_type": "stream",
     "text": [
      "100%|██████████| 1/1 [00:03<00:00,  3.40s/it]\n",
      "100%|██████████| 1/1 [00:03<00:00,  3.40s/it]\n"
     ]
    },
    {
     "name": "stdout",
     "output_type": "stream",
     "text": [
      "✅ Generated 8 counterfactuals for stable instance 7\n"
     ]
    },
    {
     "name": "stderr",
     "output_type": "stream",
     "text": [
      "100%|██████████| 1/1 [00:03<00:00,  3.32s/it]\n",
      "\n"
     ]
    },
    {
     "name": "stdout",
     "output_type": "stream",
     "text": [
      "✅ Generated 8 counterfactuals for stable instance 8\n"
     ]
    },
    {
     "name": "stderr",
     "output_type": "stream",
     "text": [
      "100%|██████████| 1/1 [00:03<00:00,  3.48s/it]\n",
      "\n"
     ]
    },
    {
     "name": "stdout",
     "output_type": "stream",
     "text": [
      "✅ Generated 8 counterfactuals for stable instance 9\n",
      "Generating counterfactuals for unstable instances...\n"
     ]
    },
    {
     "name": "stderr",
     "output_type": "stream",
     "text": [
      "100%|██████████| 1/1 [00:03<00:00,  3.38s/it]\n",
      "\n"
     ]
    },
    {
     "name": "stdout",
     "output_type": "stream",
     "text": [
      "✅ Generated 8 counterfactuals for unstable instance 0\n"
     ]
    },
    {
     "name": "stderr",
     "output_type": "stream",
     "text": [
      "100%|██████████| 1/1 [00:03<00:00,  3.55s/it]\n",
      "100%|██████████| 1/1 [00:03<00:00,  3.55s/it]\n"
     ]
    },
    {
     "name": "stdout",
     "output_type": "stream",
     "text": [
      "✅ Generated 8 counterfactuals for unstable instance 1\n"
     ]
    },
    {
     "name": "stderr",
     "output_type": "stream",
     "text": [
      "100%|██████████| 1/1 [00:05<00:00,  5.34s/it]\n",
      "\n"
     ]
    },
    {
     "name": "stdout",
     "output_type": "stream",
     "text": [
      "✅ Generated 8 counterfactuals for unstable instance 2\n"
     ]
    },
    {
     "name": "stderr",
     "output_type": "stream",
     "text": [
      "100%|██████████| 1/1 [02:52<00:00, 172.80s/it]\n",
      "100%|██████████| 1/1 [02:52<00:00, 172.80s/it]\n"
     ]
    },
    {
     "name": "stdout",
     "output_type": "stream",
     "text": [
      "✅ Generated 8 counterfactuals for unstable instance 3\n"
     ]
    },
    {
     "name": "stderr",
     "output_type": "stream",
     "text": [
      "100%|██████████| 1/1 [00:03<00:00,  4.00s/it]\n",
      "100%|██████████| 1/1 [00:03<00:00,  4.00s/it]\n"
     ]
    },
    {
     "name": "stdout",
     "output_type": "stream",
     "text": [
      "✅ Generated 8 counterfactuals for unstable instance 4\n"
     ]
    },
    {
     "name": "stderr",
     "output_type": "stream",
     "text": [
      "100%|██████████| 1/1 [00:04<00:00,  4.54s/it]\n",
      "100%|██████████| 1/1 [00:04<00:00,  4.54s/it]\n"
     ]
    },
    {
     "name": "stdout",
     "output_type": "stream",
     "text": [
      "✅ Generated 8 counterfactuals for unstable instance 5\n"
     ]
    },
    {
     "name": "stderr",
     "output_type": "stream",
     "text": [
      "100%|██████████| 1/1 [05:53<00:00, 353.69s/it]\n",
      "100%|██████████| 1/1 [05:53<00:00, 353.69s/it]\n"
     ]
    },
    {
     "name": "stdout",
     "output_type": "stream",
     "text": [
      "✅ Generated 8 counterfactuals for unstable instance 6\n"
     ]
    },
    {
     "name": "stderr",
     "output_type": "stream",
     "text": [
      "100%|██████████| 1/1 [00:03<00:00,  3.28s/it]\n",
      "\n"
     ]
    },
    {
     "name": "stdout",
     "output_type": "stream",
     "text": [
      "✅ Generated 8 counterfactuals for unstable instance 7\n"
     ]
    },
    {
     "name": "stderr",
     "output_type": "stream",
     "text": [
      "100%|██████████| 1/1 [00:03<00:00,  3.64s/it]\n",
      "100%|██████████| 1/1 [00:03<00:00,  3.64s/it]\n"
     ]
    },
    {
     "name": "stdout",
     "output_type": "stream",
     "text": [
      "✅ Generated 8 counterfactuals for unstable instance 8\n"
     ]
    },
    {
     "name": "stderr",
     "output_type": "stream",
     "text": [
      "100%|██████████| 1/1 [00:57<00:00, 57.69s/it]"
     ]
    },
    {
     "name": "stdout",
     "output_type": "stream",
     "text": [
      "✅ Generated 8 counterfactuals for unstable instance 9\n",
      "\n",
      "✅ Generated counterfactuals for 20 instances\n",
      "📊 Total individual counterfactuals: 160\n",
      "📊 Average counterfactuals per instance: 8.00\n"
     ]
    },
    {
     "name": "stderr",
     "output_type": "stream",
     "text": [
      "\n"
     ]
    }
   ],
   "source": [
    "# Generate counterfactuals for selected test instances with enhanced method\n",
    "print(\"🔄 Generating counterfactuals with enhanced method...\")\n",
    "\n",
    "# Increase the number of instances and counterfactuals per instance\n",
    "stable_instances = test_df[test_df['severity'] == 0].head(10)  # Increased from 5\n",
    "unstable_instances = test_df[test_df['severity'] == 1].head(10)  # Increased from 5\n",
    "\n",
    "all_counterfactuals = []\n",
    "all_original_instances = []\n",
    "\n",
    "# Enhanced function to extract counterfactuals properly\n",
    "def extract_counterfactuals(cf_examples):\n",
    "    \"\"\"Extract counterfactual DataFrame from output\"\"\"\n",
    "    try:\n",
    "        if hasattr(cf_examples, 'cf_examples_list') and len(cf_examples.cf_examples_list) > 0:\n",
    "            cf_data = cf_examples.cf_examples_list[0]\n",
    "            if cf_data is not None:\n",
    "                if hasattr(cf_data, 'final_cfs_df'):\n",
    "                    return cf_data.final_cfs_df\n",
    "                elif isinstance(cf_data, pd.DataFrame):\n",
    "                    return cf_data\n",
    "    except:\n",
    "        pass\n",
    "    return None\n",
    "\n",
    "# Generate counterfactuals for stable instances (try to make them unstable)\n",
    "print(\"Generating counterfactuals for stable instances...\")\n",
    "for idx, (_, instance) in enumerate(stable_instances.iterrows()):\n",
    "    try:\n",
    "        query_instance = instance.drop('severity').to_frame().T\n",
    "        \n",
    "        # Increase number of counterfactuals requested\n",
    "        if DICE_AVAILABLE:\n",
    "            cf_examples = explainer.generate_counterfactuals(\n",
    "                query_instance,\n",
    "                total_CFs=8,  # Increased from 3\n",
    "                desired_class=1,\n",
    "                features_to_vary='all'\n",
    "            )\n",
    "        else:\n",
    "            cf_examples = explainer.generate_counterfactuals(\n",
    "                query_instance,\n",
    "                total_CFs=8,  # Increased from 3\n",
    "                desired_class=1,\n",
    "                max_attempts=100  # Increased attempts\n",
    "            )\n",
    "        \n",
    "        # Extract counterfactual DataFrame\n",
    "        cf_df = extract_counterfactuals(cf_examples)\n",
    "        \n",
    "        if cf_df is not None and len(cf_df) > 0:\n",
    "            cf_df = cf_df.copy()\n",
    "            # Add metadata columns\n",
    "            cf_df['original_class'] = 0\n",
    "            cf_df['target_class'] = 1\n",
    "            cf_df['instance_id'] = f\"stable_{idx}\"\n",
    "            all_counterfactuals.append(cf_df)\n",
    "            \n",
    "            # Store original instance\n",
    "            orig_df = query_instance.copy()\n",
    "            orig_df['severity'] = 0\n",
    "            orig_df['original_class'] = 0\n",
    "            orig_df['target_class'] = 1\n",
    "            orig_df['instance_id'] = f\"stable_{idx}\"\n",
    "            all_original_instances.append(orig_df)\n",
    "            print(f\"✅ Generated {len(cf_df)} counterfactuals for stable instance {idx}\")\n",
    "        else:\n",
    "            print(f\"⚠️ No counterfactuals generated for stable instance {idx}\")\n",
    "            \n",
    "    except Exception as e:\n",
    "        print(f\"Failed to generate counterfactual for stable instance {idx}: {e}\")\n",
    "\n",
    "# Generate counterfactuals for unstable instances (try to make them stable)\n",
    "print(\"Generating counterfactuals for unstable instances...\")\n",
    "for idx, (_, instance) in enumerate(unstable_instances.iterrows()):\n",
    "    try:\n",
    "        query_instance = instance.drop('severity').to_frame().T\n",
    "        \n",
    "        # Generate counterfactuals\n",
    "        if DICE_AVAILABLE:\n",
    "            cf_examples = explainer.generate_counterfactuals(\n",
    "                query_instance,\n",
    "                total_CFs=8,  # Increased from 3\n",
    "                desired_class=0,\n",
    "                features_to_vary='all'\n",
    "            )\n",
    "        else:\n",
    "            cf_examples = explainer.generate_counterfactuals(\n",
    "                query_instance,\n",
    "                total_CFs=8,  # Increased from 3\n",
    "                desired_class=0,\n",
    "                max_attempts=100  # Increased attempts\n",
    "            )\n",
    "        \n",
    "        # Extract counterfactual DataFrame\n",
    "        cf_df = extract_counterfactuals(cf_examples)\n",
    "        \n",
    "        if cf_df is not None and len(cf_df) > 0:\n",
    "            cf_df = cf_df.copy()\n",
    "            # Add metadata columns\n",
    "            cf_df['original_class'] = 1\n",
    "            cf_df['target_class'] = 0\n",
    "            cf_df['instance_id'] = f\"unstable_{idx}\"\n",
    "            all_counterfactuals.append(cf_df)\n",
    "            \n",
    "            # Store original instance\n",
    "            orig_df = query_instance.copy()\n",
    "            orig_df['severity'] = 1\n",
    "            orig_df['original_class'] = 1\n",
    "            orig_df['target_class'] = 0\n",
    "            orig_df['instance_id'] = f\"unstable_{idx}\"\n",
    "            all_original_instances.append(orig_df)\n",
    "            print(f\"✅ Generated {len(cf_df)} counterfactuals for unstable instance {idx}\")\n",
    "        else:\n",
    "            print(f\"⚠️ No counterfactuals generated for unstable instance {idx}\")\n",
    "            \n",
    "    except Exception as e:\n",
    "        print(f\"Failed to generate counterfactual for unstable instance {idx}: {e}\")\n",
    "\n",
    "print(f\"\\n✅ Generated counterfactuals for {len(all_counterfactuals)} instances\")\n",
    "if len(all_counterfactuals) > 0:\n",
    "    total_cfs = sum(len(cf) for cf in all_counterfactuals)\n",
    "    print(f\"📊 Total individual counterfactuals: {total_cfs}\")\n",
    "    avg_cfs_per_instance = total_cfs / len(all_counterfactuals) if len(all_counterfactuals) > 0 else 0\n",
    "    print(f\"📊 Average counterfactuals per instance: {avg_cfs_per_instance:.2f}\")\n",
    "else:\n",
    "    print(\"⚠️ No counterfactuals were successfully generated\")"
   ]
  },
  {
   "cell_type": "code",
   "execution_count": 7,
   "id": "caeb2912",
   "metadata": {},
   "outputs": [
    {
     "name": "stdout",
     "output_type": "stream",
     "text": [
      "📊 Analyzing counterfactuals...\n",
      "✅ Saved 160 counterfactuals to 'counterfactual_analysis.xlsx'\n",
      "\n",
      "📈 Counterfactual Analysis Summary:\n",
      "Average number of feature changes: 4.10\n",
      "Average load feature changes: 1.09\n",
      "Average voltage feature changes: 0.81\n",
      "Average flow feature changes: 2.20\n",
      "✅ Saved 160 counterfactuals to 'counterfactual_analysis.xlsx'\n",
      "\n",
      "📈 Counterfactual Analysis Summary:\n",
      "Average number of feature changes: 4.10\n",
      "Average load feature changes: 1.09\n",
      "Average voltage feature changes: 0.81\n",
      "Average flow feature changes: 2.20\n"
     ]
    }
   ],
   "source": [
    "# Analyze and save counterfactuals\n",
    "print(\"📊 Analyzing counterfactuals...\")\n",
    "\n",
    "if all_counterfactuals:\n",
    "    # Combine all counterfactuals\n",
    "    counterfactuals_df = pd.concat(all_counterfactuals, ignore_index=True)\n",
    "    original_instances_df = pd.concat(all_original_instances, ignore_index=True)\n",
    "    \n",
    "    # Calculate feature changes\n",
    "    analysis_results = []\n",
    "    \n",
    "    for instance_id in counterfactuals_df['instance_id'].unique():\n",
    "        cf_subset = counterfactuals_df[counterfactuals_df['instance_id'] == instance_id]\n",
    "        orig_subset = original_instances_df[original_instances_df['instance_id'] == instance_id]\n",
    "        \n",
    "        if len(orig_subset) > 0:\n",
    "            orig_row = orig_subset.iloc[0]\n",
    "            \n",
    "            for _, cf_row in cf_subset.iterrows():\n",
    "                # Calculate changes for each feature type\n",
    "                load_features_changed = []\n",
    "                voltage_features_changed = []\n",
    "                flow_features_changed = []\n",
    "                \n",
    "                for feature in feature_names:\n",
    "                    if abs(cf_row[feature] - orig_row[feature]) > 1e-6:\n",
    "                        change_pct = ((cf_row[feature] - orig_row[feature]) / orig_row[feature]) * 100\n",
    "                        \n",
    "                        if 'P_load_' in feature or 'Q_load_' in feature:\n",
    "                            load_features_changed.append((feature, change_pct))\n",
    "                        elif 'V_bus_' in feature:\n",
    "                            voltage_features_changed.append((feature, change_pct))\n",
    "                        elif 'Loading_line_' in feature:\n",
    "                            flow_features_changed.append((feature, change_pct))\n",
    "                \n",
    "                analysis_results.append({\n",
    "                    'instance_id': instance_id,\n",
    "                    'original_class': cf_row['original_class'],\n",
    "                    'target_class': cf_row['target_class'],\n",
    "                    'load_changes': len(load_features_changed),\n",
    "                    'voltage_changes': len(voltage_features_changed),\n",
    "                    'flow_changes': len(flow_features_changed),\n",
    "                    'total_changes': len(load_features_changed) + len(voltage_features_changed) + len(flow_features_changed),\n",
    "                    'load_details': load_features_changed[:5],  # Top 5 changes\n",
    "                    'voltage_details': voltage_features_changed[:5],\n",
    "                    'flow_details': flow_features_changed[:5]\n",
    "                })\n",
    "    \n",
    "    analysis_df = pd.DataFrame(analysis_results)\n",
    "    \n",
    "    # Save results\n",
    "    with pd.ExcelWriter(\"counterfactual_analysis.xlsx\", engine='xlsxwriter') as writer:\n",
    "        counterfactuals_df.to_excel(writer, sheet_name=\"Counterfactuals\", index=False)\n",
    "        original_instances_df.to_excel(writer, sheet_name=\"Original_Instances\", index=False)\n",
    "        analysis_df.to_excel(writer, sheet_name=\"Analysis\", index=False)\n",
    "    \n",
    "    print(f\"✅ Saved {len(counterfactuals_df)} counterfactuals to 'counterfactual_analysis.xlsx'\")\n",
    "    \n",
    "    # Display summary statistics\n",
    "    print(\"\\n📈 Counterfactual Analysis Summary:\")\n",
    "    print(f\"Average number of feature changes: {analysis_df['total_changes'].mean():.2f}\")\n",
    "    print(f\"Average load feature changes: {analysis_df['load_changes'].mean():.2f}\")\n",
    "    print(f\"Average voltage feature changes: {analysis_df['voltage_changes'].mean():.2f}\")\n",
    "    print(f\"Average flow feature changes: {analysis_df['flow_changes'].mean():.2f}\")\n",
    "    \n",
    "else:\n",
    "    print(\"⚠️ No counterfactuals were successfully generated\")"
   ]
  },
  {
   "cell_type": "code",
   "execution_count": 8,
   "id": "68fcd0c5",
   "metadata": {},
   "outputs": [
    {
     "name": "stdout",
     "output_type": "stream",
     "text": [
      "📊 Creating visualizations...\n"
     ]
    },
    {
     "data": {
      "image/png": "[encoded data removed]",
      "text/plain": [
       "<Figure size 1200x1000 with 4 Axes>"
      ]
     },
     "metadata": {},
     "output_type": "display_data"
    },
    {
     "data": {
      "image/png": "[encoded data removed]",
      "text/plain": [
       "<Figure size 1000x600 with 1 Axes>"
      ]
     },
     "metadata": {},
     "output_type": "display_data"
    },
    {
     "name": "stdout",
     "output_type": "stream",
     "text": [
      "✅ Visualizations saved as PNG files\n",
      "\n",
      "🎯 Phase 3.2 Complete: Counterfactual explanations generated successfully!\n",
      "📁 Outputs:\n",
      "   - counterfactual_analysis.xlsx: Detailed counterfactual results\n",
      "   - counterfactual_feature_changes.png: Feature change distributions\n",
      "   - counterfactual_class_transitions.png: Changes by class transition\n"
     ]
    }
   ],
   "source": [
    "# Visualize counterfactual changes\n",
    "if all_counterfactuals:\n",
    "    print(\"📊 Creating visualizations...\")\n",
    "    \n",
    "    # Plot 1: Distribution of feature changes\n",
    "    fig, axes = plt.subplots(2, 2, figsize=(12, 10))\n",
    "    \n",
    "    # Total changes distribution\n",
    "    axes[0,0].hist(analysis_df['total_changes'], bins=10, alpha=0.7, color='skyblue')\n",
    "    axes[0,0].set_title('Distribution of Total Feature Changes')\n",
    "    axes[0,0].set_xlabel('Number of Features Changed')\n",
    "    axes[0,0].set_ylabel('Frequency')\n",
    "    \n",
    "    # Changes by feature type\n",
    "    feature_types = ['load_changes', 'voltage_changes', 'flow_changes']\n",
    "    colors = ['lightcoral', 'lightgreen', 'lightsalmon']\n",
    "    \n",
    "    for i, (feat_type, color) in enumerate(zip(feature_types, colors)):\n",
    "        if i < 3:\n",
    "            row = (i + 1) // 2\n",
    "            col = (i + 1) % 2\n",
    "            axes[row, col].hist(analysis_df[feat_type], bins=10, alpha=0.7, color=color)\n",
    "            axes[row, col].set_title(f'Distribution of {feat_type.replace(\"_\", \" \").title()}')\n",
    "            axes[row, col].set_xlabel('Number of Features Changed')\n",
    "            axes[row, col].set_ylabel('Frequency')\n",
    "    \n",
    "    plt.tight_layout()\n",
    "    plt.savefig('counterfactual_feature_changes.png', dpi=300, bbox_inches='tight')\n",
    "    plt.show()\n",
    "    \n",
    "    # Plot 2: Changes by class transition\n",
    "    plt.figure(figsize=(10, 6))\n",
    "    \n",
    "    stable_to_unstable = analysis_df[analysis_df['original_class'] == 0]\n",
    "    unstable_to_stable = analysis_df[analysis_df['original_class'] == 1]\n",
    "    \n",
    "    x_pos = np.arange(3)\n",
    "    feature_types_clean = ['Load Features', 'Voltage Features', 'Flow Features']\n",
    "    \n",
    "    if len(stable_to_unstable) > 0:\n",
    "        stable_means = [stable_to_unstable['load_changes'].mean(), \n",
    "                      stable_to_unstable['voltage_changes'].mean(),\n",
    "                      stable_to_unstable['flow_changes'].mean()]\n",
    "        plt.bar(x_pos - 0.2, stable_means, 0.4, label='Stable → Unstable', alpha=0.7)\n",
    "    \n",
    "    if len(unstable_to_stable) > 0:\n",
    "        unstable_means = [unstable_to_stable['load_changes'].mean(), \n",
    "                         unstable_to_stable['voltage_changes'].mean(),\n",
    "                         unstable_to_stable['flow_changes'].mean()]\n",
    "        plt.bar(x_pos + 0.2, unstable_means, 0.4, label='Unstable → Stable', alpha=0.7)\n",
    "    \n",
    "    plt.xlabel('Feature Type')\n",
    "    plt.ylabel('Average Number of Changes')\n",
    "    plt.title('Average Feature Changes by Class Transition')\n",
    "    plt.xticks(x_pos, feature_types_clean)\n",
    "    plt.legend()\n",
    "    plt.grid(True, alpha=0.3)\n",
    "    \n",
    "    plt.tight_layout()\n",
    "    plt.savefig('counterfactual_class_transitions.png', dpi=300, bbox_inches='tight')\n",
    "    plt.show()\n",
    "    \n",
    "    print(\"✅ Visualizations saved as PNG files\")\n",
    "\n",
    "print(\"\\n🎯 Phase 3.2 Complete: Counterfactual explanations generated successfully!\")\n",
    "print(\"📁 Outputs:\")\n",
    "print(\"   - counterfactual_analysis.xlsx: Detailed counterfactual results\")\n",
    "print(\"   - counterfactual_feature_changes.png: Feature change distributions\")\n",
    "print(\"   - counterfactual_class_transitions.png: Changes by class transition\")"
   ]
  }
 ],
 "metadata": {
  "kernelspec": {
   "display_name": "Python 3",
   "language": "python",
   "name": "python3"
  },
  "language_info": {
   "codemirror_mode": {
    "name": "ipython",
    "version": 3
   },
   "file_extension": ".py",
   "mimetype": "text/x-python",
   "name": "python",
   "nbconvert_exporter": "python",
   "pygments_lexer": "ipython3",
   "version": "3.11.9"
  }
 },
 "nbformat": 4,
 "nbformat_minor": 5
}
