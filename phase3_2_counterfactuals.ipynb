{
 "cells": [
  {
   "cell_type": "markdown",
   "id": "03348e57",
   "metadata": {},
   "source": [
    "# Phase 3.2: Counterfactual Explanation Generation\n",
    "## Task: Generate counterfactuals to switch class predictions with realistic operational bounds"
   ]
  },
  {
   "cell_type": "code",
   "execution_count": 1,
   "id": "d6465729",
   "metadata": {},
   "outputs": [
    {
     "name": "stdout",
     "output_type": "stream",
     "text": [
      "Note: you may need to restart the kernel to use updated packages.\n",
      "Note: you may need to restart the kernel to use updated packages.\n",
      "Note: you may need to restart the kernel to use updated packages.\n",
      "Note: you may need to restart the kernel to use updated packages.\n",
      "✅ Installation complete. Please restart kernel if needed.\n"
     ]
    }
   ],
   "source": [
    "# Install required packages for counterfactual generation\n",
    "%pip install dice-ml --quiet\n",
    "%pip install tensorflow --quiet\n",
    "%pip install scikit-learn --quiet\n",
    "%pip install pandas numpy matplotlib --quiet\n",
    "\n",
    "# Alternative installation if dice-ml fails\n",
    "# %pip install git+https://github.com/interpretml/DiCE.git --quiet\n",
    "\n",
    "print(\"✅ Installation complete. Please restart kernel if needed.\")"
   ]
  },
  {
   "cell_type": "code",
   "execution_count": 1,
   "id": "fb060be5",
   "metadata": {},
   "outputs": [
    {
     "name": "stdout",
     "output_type": "stream",
     "text": [
      "✅ DiCE ML imported successfully\n",
      "✅ Core libraries imported successfully\n"
     ]
    }
   ],
   "source": [
    "import numpy as np\n",
    "import pandas as pd\n",
    "import torch\n",
    "import torch.nn as nn\n",
    "from sklearn.model_selection import train_test_split\n",
    "from sklearn.preprocessing import StandardScaler\n",
    "import matplotlib.pyplot as plt\n",
    "import warnings\n",
    "warnings.filterwarnings('ignore')\n",
    "\n",
    "# Try to import dice_ml with error handling\n",
    "try:\n",
    "    import dice_ml\n",
    "    from dice_ml import Dice\n",
    "    print(\"✅ DiCE ML imported successfully\")\n",
    "    DICE_AVAILABLE = True\n",
    "except ImportError as e:\n",
    "    print(f\"⚠️ DiCE ML not available: {e}\")\n",
    "    print(\"Will use alternative counterfactual generation method\")\n",
    "    DICE_AVAILABLE = False\n",
    "\n",
    "print(\"✅ Core libraries imported successfully\")"
   ]
  },
  {
   "cell_type": "code",
   "execution_count": 2,
   "id": "572a1132",
   "metadata": {},
   "outputs": [
    {
     "name": "stdout",
     "output_type": "stream",
     "text": [
      "📊 Loading dataset from Phase 1...\n",
      "Dataset shape: (41000, 111)\n",
      "Number of features: 111\n",
      "Class distribution: [23395 17605]\n"
     ]
    }
   ],
   "source": [
    "# Load the prepared dataset from Phase 1\n",
    "print(\"📊 Loading dataset from Phase 1...\")\n",
    "\n",
    "load_df = pd.read_excel(\"load_scenarios.xlsx\")\n",
    "cont_df = pd.read_csv(\"n1_contingency_balanced_filled_complete.csv\")\n",
    "cont_df = cont_df[cont_df['Scenario'] < 1000].reset_index(drop=True)\n",
    "\n",
    "# Extract features\n",
    "load_features = load_df[[\"P_mw\", \"Q_mvar\"]].values\n",
    "load_features = load_features.reshape(1000, 40)\n",
    "load_features_expanded = np.repeat(load_features, 41, axis=0)\n",
    "\n",
    "bus_cols = [col for col in cont_df.columns if col.startswith(\"V_bus_\")]\n",
    "line_cols = [col for col in cont_df.columns if col.startswith(\"Loading_line_\")]\n",
    "voltages = cont_df[bus_cols].values.astype(np.float32)\n",
    "line_flows = cont_df[line_cols].values.astype(np.float32)\n",
    "\n",
    "# Combine features\n",
    "X = np.concatenate([load_features_expanded, voltages, line_flows], axis=1)\n",
    "y = cont_df['Severity'].values.astype(np.int64)\n",
    "\n",
    "# Create feature names\n",
    "feature_names = []\n",
    "for i in range(20):\n",
    "    feature_names.extend([f\"P_load_{i}\", f\"Q_load_{i}\"])\n",
    "feature_names.extend([f\"V_bus_{i}\" for i in range(len(bus_cols))])\n",
    "feature_names.extend([f\"Loading_line_{i}\" for i in range(len(line_cols))])\n",
    "\n",
    "print(f\"Dataset shape: {X.shape}\")\n",
    "print(f\"Number of features: {len(feature_names)}\")\n",
    "print(f\"Class distribution: {np.bincount(y)}\")"
   ]
  },
  {
   "cell_type": "code",
   "execution_count": 3,
   "id": "ce2025c8",
   "metadata": {},
   "outputs": [
    {
     "name": "stdout",
     "output_type": "stream",
     "text": [
      "🔧 Preparing data for counterfactual generation...\n",
      "Training set size: 32800\n",
      "Test set size: 8200\n",
      "✅ Data preparation complete\n"
     ]
    }
   ],
   "source": [
    "# Prepare data for DiCE (requires pandas DataFrame)\n",
    "print(\"🔧 Preparing data for counterfactual generation...\")\n",
    "\n",
    "# Create DataFrame with feature names\n",
    "df = pd.DataFrame(X, columns=feature_names)\n",
    "df['severity'] = y\n",
    "\n",
    "# Split into train and test\n",
    "train_df, test_df = train_test_split(df, test_size=0.2, random_state=42, stratify=y)\n",
    "\n",
    "print(f\"Training set size: {len(train_df)}\")\n",
    "print(f\"Test set size: {len(test_df)}\")\n",
    "\n",
    "# Define continuous and categorical features\n",
    "continuous_features = feature_names  # All our features are continuous\n",
    "categorical_features = []\n",
    "\n",
    "# Define operational bounds for power system features\n",
    "bounds = {\n",
    "    # Load bounds (±20% variation from original)\n",
    "    **{f\"P_load_{i}\": (0.1, 2.0) for i in range(20)},\n",
    "    **{f\"Q_load_{i}\": (0.05, 1.5) for i in range(20)},\n",
    "    # Voltage bounds (0.95 to 1.05 p.u. - typical operating range)\n",
    "    **{f\"V_bus_{i}\": (0.95, 1.05) for i in range(len(bus_cols))},\n",
    "    # Line loading bounds (0% to 100%)\n",
    "    **{f\"Loading_line_{i}\": (0.0, 100.0) for i in range(len(line_cols))}\n",
    "}\n",
    "\n",
    "print(\"✅ Data preparation complete\")"
   ]
  },
  {
   "cell_type": "code",
   "execution_count": 4,
   "id": "2d832f72",
   "metadata": {},
   "outputs": [
    {
     "name": "stdout",
     "output_type": "stream",
     "text": [
      "🤖 Training surrogate model for counterfactual generation...\n",
      "Surrogate model accuracy: 0.9987\n",
      "\n",
      "Classification Report:\n",
      "              precision    recall  f1-score   support\n",
      "\n",
      "           0       1.00      1.00      1.00      4679\n",
      "           1       1.00      1.00      1.00      3521\n",
      "\n",
      "    accuracy                           1.00      8200\n",
      "   macro avg       1.00      1.00      1.00      8200\n",
      "weighted avg       1.00      1.00      1.00      8200\n",
      "\n"
     ]
    }
   ],
   "source": [
    "# Create a simple model wrapper for DiCE\n",
    "from sklearn.ensemble import RandomForestClassifier\n",
    "from sklearn.metrics import accuracy_score, classification_report\n",
    "\n",
    "print(\"🤖 Training surrogate model for counterfactual generation...\")\n",
    "\n",
    "# Prepare features and target\n",
    "X_train = train_df.drop('severity', axis=1)\n",
    "y_train = train_df['severity']\n",
    "X_test = test_df.drop('severity', axis=1)\n",
    "y_test = test_df['severity']\n",
    "\n",
    "# Scale features\n",
    "scaler = StandardScaler()\n",
    "X_train_scaled = scaler.fit_transform(X_train)\n",
    "X_test_scaled = scaler.transform(X_test)\n",
    "\n",
    "# Train a Random Forest model (works well with DiCE)\n",
    "model = RandomForestClassifier(n_estimators=100, random_state=42, max_depth=10)\n",
    "model.fit(X_train_scaled, y_train)\n",
    "\n",
    "# Evaluate model\n",
    "y_pred = model.predict(X_test_scaled)\n",
    "accuracy = accuracy_score(y_test, y_pred)\n",
    "print(f\"Surrogate model accuracy: {accuracy:.4f}\")\n",
    "print(\"\\nClassification Report:\")\n",
    "print(classification_report(y_test, y_pred))"
   ]
  },
  {
   "cell_type": "code",
   "execution_count": 7,
   "id": "3eabfaec",
   "metadata": {},
   "outputs": [
    {
     "name": "stdout",
     "output_type": "stream",
     "text": [
      "✅ DiCE explainer created successfully\n"
     ]
    }
   ],
   "source": [
    "# Create model wrapper and counterfactual generator\n",
    "if DICE_AVAILABLE:\n",
    "    # Use DiCE if available\n",
    "    class SklearnModelWrapper:\n",
    "        def __init__(self, model, scaler):\n",
    "            self.model = model\n",
    "            self.scaler = scaler\n",
    "        \n",
    "        def predict(self, X):\n",
    "            if isinstance(X, pd.DataFrame):\n",
    "                X = X.values\n",
    "            X_scaled = self.scaler.transform(X)\n",
    "            return self.model.predict(X_scaled)\n",
    "        \n",
    "        def predict_proba(self, X):\n",
    "            if isinstance(X, pd.DataFrame):\n",
    "                X = X.values\n",
    "            X_scaled = self.scaler.transform(X)\n",
    "            return self.model.predict_proba(X_scaled)\n",
    "\n",
    "    model_wrapper = SklearnModelWrapper(model, scaler)\n",
    "\n",
    "    # Create DiCE data object\n",
    "    dice_data = dice_ml.Data(\n",
    "        dataframe=train_df,\n",
    "        continuous_features=continuous_features,\n",
    "        outcome_name='severity'\n",
    "    )\n",
    "\n",
    "    # Create DiCE model object\n",
    "    dice_model = dice_ml.Model(\n",
    "        model=model_wrapper,\n",
    "        backend='sklearn'\n",
    "    )\n",
    "\n",
    "    # Create DiCE explainer\n",
    "    explainer = Dice(dice_data, dice_model, method='random')\n",
    "    print(\"✅ DiCE explainer created successfully\")\n",
    "    \n",
    "else:\n",
    "    # Alternative counterfactual generation using optimization\n",
    "    from scipy.optimize import minimize\n",
    "    \n",
    "    class AlternativeCounterfactualGenerator:\n",
    "        def __init__(self, model, scaler, feature_names, bounds):\n",
    "            self.model = model\n",
    "            self.scaler = scaler\n",
    "            self.feature_names = feature_names\n",
    "            self.bounds = bounds\n",
    "            \n",
    "        def generate_counterfactuals(self, query_instance, total_CFs=3, desired_class=1):\n",
    "            \"\"\"Generate counterfactuals using optimization approach\"\"\"\n",
    "            query_scaled = self.scaler.transform(query_instance.values)\n",
    "            original_pred = self.model.predict_proba(query_scaled)[0]\n",
    "            \n",
    "            counterfactuals = []\n",
    "            \n",
    "            for i in range(total_CFs):\n",
    "                # Random perturbation as starting point\n",
    "                perturbed = query_instance.values[0].copy()\n",
    "                \n",
    "                # Add small random changes to features\n",
    "                for j, feature in enumerate(self.feature_names):\n",
    "                    if feature in self.bounds:\n",
    "                        min_val, max_val = self.bounds[feature]\n",
    "                        # Add random perturbation within bounds\n",
    "                        current_val = perturbed[j]\n",
    "                        noise = np.random.normal(0, 0.1) * current_val\n",
    "                        perturbed[j] = np.clip(current_val + noise, min_val, max_val)\n",
    "                \n",
    "                # Check if this creates desired class change\n",
    "                perturbed_scaled = self.scaler.transform(perturbed.reshape(1, -1))\n",
    "                new_pred = self.model.predict_proba(perturbed_scaled)[0]\n",
    "                predicted_class = np.argmax(new_pred)\n",
    "                \n",
    "                if predicted_class == desired_class:\n",
    "                    cf_df = pd.DataFrame(perturbed.reshape(1, -1), columns=self.feature_names)\n",
    "                    counterfactuals.append(cf_df)\n",
    "                    \n",
    "                # Try optimization-based approach if random perturbation fails\n",
    "                elif len(counterfactuals) < total_CFs:\n",
    "                    def objective(x):\n",
    "                        x_scaled = self.scaler.transform(x.reshape(1, -1))\n",
    "                        pred_proba = self.model.predict_proba(x_scaled)[0]\n",
    "                        # Maximize probability of desired class\n",
    "                        return -pred_proba[desired_class]\n",
    "                    \n",
    "                    def constraint(x):\n",
    "                        # L2 distance constraint\n",
    "                        return 1.0 - np.linalg.norm(x - query_instance.values[0])\n",
    "                    \n",
    "                    # Set bounds for optimization\n",
    "                    opt_bounds = []\n",
    "                    for j, feature in enumerate(self.feature_names):\n",
    "                        if feature in self.bounds:\n",
    "                            opt_bounds.append(self.bounds[feature])\n",
    "                        else:\n",
    "                            opt_bounds.append((None, None))\n",
    "                    \n",
    "                    try:\n",
    "                        result = minimize(\n",
    "                            objective,\n",
    "                            query_instance.values[0],\n",
    "                            method='L-BFGS-B',\n",
    "                            bounds=opt_bounds,\n",
    "                            options={'maxiter': 100}\n",
    "                        )\n",
    "                        \n",
    "                        if result.success:\n",
    "                            opt_scaled = self.scaler.transform(result.x.reshape(1, -1))\n",
    "                            opt_pred = self.model.predict_proba(opt_scaled)[0]\n",
    "                            if np.argmax(opt_pred) == desired_class:\n",
    "                                cf_df = pd.DataFrame(result.x.reshape(1, -1), columns=self.feature_names)\n",
    "                                counterfactuals.append(cf_df)\n",
    "                    except:\n",
    "                        continue\n",
    "            \n",
    "            # Return mock DiCE-like object\n",
    "            class MockCFExamples:\n",
    "                def __init__(self, cfs):\n",
    "                    self.cf_examples_list = [pd.concat(cfs, ignore_index=True) if cfs else None]\n",
    "            \n",
    "            return MockCFExamples(counterfactuals)\n",
    "    \n",
    "    explainer = AlternativeCounterfactualGenerator(model, scaler, feature_names, bounds)\n",
    "    print(\"✅ Alternative counterfactual generator created successfully\")"
   ]
  },
  {
   "cell_type": "code",
   "execution_count": 12,
   "id": "d9995ff8",
   "metadata": {},
   "outputs": [
    {
     "name": "stdout",
     "output_type": "stream",
     "text": [
      "🔄 Generating counterfactuals...\n",
      "Generating counterfactuals for stable instances...\n"
     ]
    },
    {
     "name": "stderr",
     "output_type": "stream",
     "text": [
      "100%|██████████| 1/1 [00:02<00:00,  2.63s/it]\n",
      "100%|██████████| 1/1 [00:02<00:00,  2.63s/it]\n"
     ]
    },
    {
     "name": "stdout",
     "output_type": "stream",
     "text": [
      "✅ Generated 3 counterfactuals for stable instance 0\n"
     ]
    },
    {
     "name": "stderr",
     "output_type": "stream",
     "text": [
      "100%|██████████| 1/1 [00:02<00:00,  2.45s/it]\n",
      "100%|██████████| 1/1 [00:02<00:00,  2.45s/it]\n"
     ]
    },
    {
     "name": "stdout",
     "output_type": "stream",
     "text": [
      "✅ Generated 3 counterfactuals for stable instance 1\n"
     ]
    },
    {
     "name": "stderr",
     "output_type": "stream",
     "text": [
      "100%|██████████| 1/1 [00:02<00:00,  2.49s/it]\n",
      "100%|██████████| 1/1 [00:02<00:00,  2.49s/it]\n"
     ]
    },
    {
     "name": "stdout",
     "output_type": "stream",
     "text": [
      "✅ Generated 3 counterfactuals for stable instance 2\n"
     ]
    },
    {
     "name": "stderr",
     "output_type": "stream",
     "text": [
      "100%|██████████| 1/1 [00:02<00:00,  2.56s/it]\n",
      "100%|██████████| 1/1 [00:02<00:00,  2.56s/it]\n"
     ]
    },
    {
     "name": "stdout",
     "output_type": "stream",
     "text": [
      "✅ Generated 3 counterfactuals for stable instance 3\n"
     ]
    },
    {
     "name": "stderr",
     "output_type": "stream",
     "text": [
      "100%|██████████| 1/1 [00:02<00:00,  2.53s/it]\n",
      "100%|██████████| 1/1 [00:02<00:00,  2.53s/it]\n"
     ]
    },
    {
     "name": "stdout",
     "output_type": "stream",
     "text": [
      "✅ Generated 3 counterfactuals for stable instance 4\n",
      "Generating counterfactuals for unstable instances...\n"
     ]
    },
    {
     "name": "stderr",
     "output_type": "stream",
     "text": [
      "100%|██████████| 1/1 [00:02<00:00,  2.48s/it]\n",
      "100%|██████████| 1/1 [00:02<00:00,  2.48s/it]\n"
     ]
    },
    {
     "name": "stdout",
     "output_type": "stream",
     "text": [
      "✅ Generated 3 counterfactuals for unstable instance 0\n"
     ]
    },
    {
     "name": "stderr",
     "output_type": "stream",
     "text": [
      "100%|██████████| 1/1 [00:02<00:00,  2.59s/it]\n",
      "100%|██████████| 1/1 [00:02<00:00,  2.59s/it]\n"
     ]
    },
    {
     "name": "stdout",
     "output_type": "stream",
     "text": [
      "✅ Generated 3 counterfactuals for unstable instance 1\n"
     ]
    },
    {
     "name": "stderr",
     "output_type": "stream",
     "text": [
      "100%|██████████| 1/1 [00:02<00:00,  2.53s/it]\n",
      "100%|██████████| 1/1 [00:02<00:00,  2.53s/it]\n"
     ]
    },
    {
     "name": "stdout",
     "output_type": "stream",
     "text": [
      "✅ Generated 3 counterfactuals for unstable instance 2\n"
     ]
    },
    {
     "name": "stderr",
     "output_type": "stream",
     "text": [
      "100%|██████████| 1/1 [02:11<00:00, 131.24s/it]\n",
      "100%|██████████| 1/1 [02:11<00:00, 131.24s/it]\n"
     ]
    },
    {
     "name": "stdout",
     "output_type": "stream",
     "text": [
      "✅ Generated 3 counterfactuals for unstable instance 3\n"
     ]
    },
    {
     "name": "stderr",
     "output_type": "stream",
     "text": [
      "100%|██████████| 1/1 [00:02<00:00,  2.57s/it]"
     ]
    },
    {
     "name": "stdout",
     "output_type": "stream",
     "text": [
      "✅ Generated 3 counterfactuals for unstable instance 4\n",
      "\n",
      "✅ Generated counterfactuals for 10 instances\n",
      "📊 Total individual counterfactuals: 30\n"
     ]
    },
    {
     "name": "stderr",
     "output_type": "stream",
     "text": [
      "\n"
     ]
    }
   ],
   "source": [
    "# Generate counterfactuals for selected test instances\n",
    "print(\"🔄 Generating counterfactuals...\")\n",
    "\n",
    "# Select instances from different classes\n",
    "stable_instances = test_df[test_df['severity'] == 0].head(5)\n",
    "unstable_instances = test_df[test_df['severity'] == 1].head(5)\n",
    "\n",
    "all_counterfactuals = []\n",
    "all_original_instances = []\n",
    "\n",
    "# Function to extract counterfactuals properly\n",
    "def extract_counterfactuals(cf_examples):\n",
    "    \"\"\"Extract counterfactual DataFrame from DiCE output\"\"\"\n",
    "    try:\n",
    "        # Access through cf_examples_list -> final_cfs_df\n",
    "        if len(cf_examples.cf_examples_list) > 0 and cf_examples.cf_examples_list[0] is not None:\n",
    "            cf_obj = cf_examples.cf_examples_list[0]\n",
    "            if hasattr(cf_obj, 'final_cfs_df') and cf_obj.final_cfs_df is not None:\n",
    "                return cf_obj.final_cfs_df\n",
    "    except:\n",
    "        pass\n",
    "    \n",
    "    return None\n",
    "\n",
    "# Generate counterfactuals for stable instances (try to make them unstable)\n",
    "print(\"Generating counterfactuals for stable instances...\")\n",
    "for idx, (_, instance) in enumerate(stable_instances.iterrows()):\n",
    "    try:\n",
    "        query_instance = instance.drop('severity').to_frame().T\n",
    "        \n",
    "        # Generate counterfactuals\n",
    "        cf_examples = explainer.generate_counterfactuals(\n",
    "            query_instance,\n",
    "            total_CFs=3,\n",
    "            desired_class=1,  # Want to change to unstable\n",
    "            features_to_vary='all'\n",
    "        )\n",
    "        \n",
    "        # Extract counterfactual DataFrame\n",
    "        cf_df = extract_counterfactuals(cf_examples)\n",
    "        \n",
    "        if cf_df is not None and len(cf_df) > 0:\n",
    "            cf_df = cf_df.copy()\n",
    "            # Add metadata columns\n",
    "            cf_df['original_class'] = 0\n",
    "            cf_df['target_class'] = 1\n",
    "            cf_df['instance_id'] = f\"stable_{idx}\"\n",
    "            all_counterfactuals.append(cf_df)\n",
    "            \n",
    "            # Store original instance\n",
    "            orig_df = query_instance.copy()\n",
    "            orig_df['severity'] = 0\n",
    "            orig_df['original_class'] = 0\n",
    "            orig_df['target_class'] = 1\n",
    "            orig_df['instance_id'] = f\"stable_{idx}\"\n",
    "            all_original_instances.append(orig_df)\n",
    "            print(f\"✅ Generated {len(cf_df)} counterfactuals for stable instance {idx}\")\n",
    "        else:\n",
    "            print(f\"⚠️ No counterfactuals generated for stable instance {idx}\")\n",
    "            \n",
    "    except Exception as e:\n",
    "        print(f\"Failed to generate counterfactual for stable instance {idx}: {e}\")\n",
    "\n",
    "# Generate counterfactuals for unstable instances (try to make them stable)\n",
    "print(\"Generating counterfactuals for unstable instances...\")\n",
    "for idx, (_, instance) in enumerate(unstable_instances.iterrows()):\n",
    "    try:\n",
    "        query_instance = instance.drop('severity').to_frame().T\n",
    "        \n",
    "        # Generate counterfactuals\n",
    "        cf_examples = explainer.generate_counterfactuals(\n",
    "            query_instance,\n",
    "            total_CFs=3,\n",
    "            desired_class=0,  # Want to change to stable\n",
    "            features_to_vary='all'\n",
    "        )\n",
    "        \n",
    "        # Extract counterfactual DataFrame\n",
    "        cf_df = extract_counterfactuals(cf_examples)\n",
    "        \n",
    "        if cf_df is not None and len(cf_df) > 0:\n",
    "            cf_df = cf_df.copy()\n",
    "            # Add metadata columns\n",
    "            cf_df['original_class'] = 1\n",
    "            cf_df['target_class'] = 0\n",
    "            cf_df['instance_id'] = f\"unstable_{idx}\"\n",
    "            all_counterfactuals.append(cf_df)\n",
    "            \n",
    "            # Store original instance\n",
    "            orig_df = query_instance.copy()\n",
    "            orig_df['severity'] = 1\n",
    "            orig_df['original_class'] = 1\n",
    "            orig_df['target_class'] = 0\n",
    "            orig_df['instance_id'] = f\"unstable_{idx}\"\n",
    "            all_original_instances.append(orig_df)\n",
    "            print(f\"✅ Generated {len(cf_df)} counterfactuals for unstable instance {idx}\")\n",
    "        else:\n",
    "            print(f\"⚠️ No counterfactuals generated for unstable instance {idx}\")\n",
    "            \n",
    "    except Exception as e:\n",
    "        print(f\"Failed to generate counterfactual for unstable instance {idx}: {e}\")\n",
    "\n",
    "print(f\"\\n✅ Generated counterfactuals for {len(all_counterfactuals)} instances\")\n",
    "if len(all_counterfactuals) > 0:\n",
    "    total_cfs = sum(len(cf) for cf in all_counterfactuals)\n",
    "    print(f\"📊 Total individual counterfactuals: {total_cfs}\")\n",
    "else:\n",
    "    print(\"⚠️ No counterfactuals were successfully generated\")"
   ]
  },
  {
   "cell_type": "code",
   "execution_count": 13,
   "id": "caeb2912",
   "metadata": {},
   "outputs": [
    {
     "name": "stdout",
     "output_type": "stream",
     "text": [
      "📊 Analyzing counterfactuals...\n",
      "✅ Saved 30 counterfactuals to 'counterfactual_analysis.xlsx'\n",
      "\n",
      "📈 Counterfactual Analysis Summary:\n",
      "Average number of feature changes: 3.30\n",
      "Average load feature changes: 0.63\n",
      "Average voltage feature changes: 0.63\n",
      "Average flow feature changes: 2.03\n"
     ]
    }
   ],
   "source": [
    "# Analyze and save counterfactuals\n",
    "print(\"📊 Analyzing counterfactuals...\")\n",
    "\n",
    "if all_counterfactuals:\n",
    "    # Combine all counterfactuals\n",
    "    counterfactuals_df = pd.concat(all_counterfactuals, ignore_index=True)\n",
    "    original_instances_df = pd.concat(all_original_instances, ignore_index=True)\n",
    "    \n",
    "    # Calculate feature changes\n",
    "    analysis_results = []\n",
    "    \n",
    "    for instance_id in counterfactuals_df['instance_id'].unique():\n",
    "        cf_subset = counterfactuals_df[counterfactuals_df['instance_id'] == instance_id]\n",
    "        orig_subset = original_instances_df[original_instances_df['instance_id'] == instance_id]\n",
    "        \n",
    "        if len(orig_subset) > 0:\n",
    "            orig_row = orig_subset.iloc[0]\n",
    "            \n",
    "            for _, cf_row in cf_subset.iterrows():\n",
    "                # Calculate changes for each feature type\n",
    "                load_features_changed = []\n",
    "                voltage_features_changed = []\n",
    "                flow_features_changed = []\n",
    "                \n",
    "                for feature in feature_names:\n",
    "                    if abs(cf_row[feature] - orig_row[feature]) > 1e-6:\n",
    "                        change_pct = ((cf_row[feature] - orig_row[feature]) / orig_row[feature]) * 100\n",
    "                        \n",
    "                        if 'P_load_' in feature or 'Q_load_' in feature:\n",
    "                            load_features_changed.append((feature, change_pct))\n",
    "                        elif 'V_bus_' in feature:\n",
    "                            voltage_features_changed.append((feature, change_pct))\n",
    "                        elif 'Loading_line_' in feature:\n",
    "                            flow_features_changed.append((feature, change_pct))\n",
    "                \n",
    "                analysis_results.append({\n",
    "                    'instance_id': instance_id,\n",
    "                    'original_class': cf_row['original_class'],\n",
    "                    'target_class': cf_row['target_class'],\n",
    "                    'load_changes': len(load_features_changed),\n",
    "                    'voltage_changes': len(voltage_features_changed),\n",
    "                    'flow_changes': len(flow_features_changed),\n",
    "                    'total_changes': len(load_features_changed) + len(voltage_features_changed) + len(flow_features_changed),\n",
    "                    'load_details': load_features_changed[:5],  # Top 5 changes\n",
    "                    'voltage_details': voltage_features_changed[:5],\n",
    "                    'flow_details': flow_features_changed[:5]\n",
    "                })\n",
    "    \n",
    "    analysis_df = pd.DataFrame(analysis_results)\n",
    "    \n",
    "    # Save results\n",
    "    with pd.ExcelWriter(\"counterfactual_analysis.xlsx\", engine='xlsxwriter') as writer:\n",
    "        counterfactuals_df.to_excel(writer, sheet_name=\"Counterfactuals\", index=False)\n",
    "        original_instances_df.to_excel(writer, sheet_name=\"Original_Instances\", index=False)\n",
    "        analysis_df.to_excel(writer, sheet_name=\"Analysis\", index=False)\n",
    "    \n",
    "    print(f\"✅ Saved {len(counterfactuals_df)} counterfactuals to 'counterfactual_analysis.xlsx'\")\n",
    "    \n",
    "    # Display summary statistics\n",
    "    print(\"\\n📈 Counterfactual Analysis Summary:\")\n",
    "    print(f\"Average number of feature changes: {analysis_df['total_changes'].mean():.2f}\")\n",
    "    print(f\"Average load feature changes: {analysis_df['load_changes'].mean():.2f}\")\n",
    "    print(f\"Average voltage feature changes: {analysis_df['voltage_changes'].mean():.2f}\")\n",
    "    print(f\"Average flow feature changes: {analysis_df['flow_changes'].mean():.2f}\")\n",
    "    \n",
    "else:\n",
    "    print(\"⚠️ No counterfactuals were successfully generated\")"
   ]
  },
  {
   "cell_type": "code",
   "execution_count": 15,
   "id": "68fcd0c5",
   "metadata": {},
   "outputs": [
    {
     "name": "stdout",
     "output_type": "stream",
     "text": [
      "📊 Creating visualizations...\n"
     ]
    },
    {
     "data": {
      "image/png": "[encoded data removed]",
      "text/plain": [
       "<Figure size 1200x1000 with 4 Axes>"
      ]
     },
     "metadata": {},
     "output_type": "display_data"
    },
    {
     "data": {
      "image/png": "[encoded data removed]",
      "text/plain": [
       "<Figure size 1000x600 with 1 Axes>"
      ]
     },
     "metadata": {},
     "output_type": "display_data"
    },
    {
     "name": "stdout",
     "output_type": "stream",
     "text": [
      "✅ Visualizations saved as PNG files\n",
      "\n",
      "🎯 Phase 3.2 Complete: Counterfactual explanations generated successfully!\n",
      "📁 Outputs:\n",
      "   - counterfactual_analysis.xlsx: Detailed counterfactual results\n",
      "   - counterfactual_feature_changes.png: Feature change distributions\n",
      "   - counterfactual_class_transitions.png: Changes by class transition\n"
     ]
    }
   ],
   "source": [
    "# Visualize counterfactual changes\n",
    "if all_counterfactuals:\n",
    "    print(\"📊 Creating visualizations...\")\n",
    "    \n",
    "    # Plot 1: Distribution of feature changes\n",
    "    fig, axes = plt.subplots(2, 2, figsize=(12, 10))\n",
    "    \n",
    "    # Total changes distribution\n",
    "    axes[0,0].hist(analysis_df['total_changes'], bins=10, alpha=0.7, color='skyblue')\n",
    "    axes[0,0].set_title('Distribution of Total Feature Changes')\n",
    "    axes[0,0].set_xlabel('Number of Features Changed')\n",
    "    axes[0,0].set_ylabel('Frequency')\n",
    "    \n",
    "    # Changes by feature type\n",
    "    feature_types = ['load_changes', 'voltage_changes', 'flow_changes']\n",
    "    colors = ['lightcoral', 'lightgreen', 'lightsalmon']\n",
    "    \n",
    "    for i, (feat_type, color) in enumerate(zip(feature_types, colors)):\n",
    "        if i < 3:\n",
    "            row = (i + 1) // 2\n",
    "            col = (i + 1) % 2\n",
    "            axes[row, col].hist(analysis_df[feat_type], bins=10, alpha=0.7, color=color)\n",
    "            axes[row, col].set_title(f'Distribution of {feat_type.replace(\"_\", \" \").title()}')\n",
    "            axes[row, col].set_xlabel('Number of Features Changed')\n",
    "            axes[row, col].set_ylabel('Frequency')\n",
    "    \n",
    "    plt.tight_layout()\n",
    "    plt.savefig('counterfactual_feature_changes.png', dpi=300, bbox_inches='tight')\n",
    "    plt.show()\n",
    "    \n",
    "    # Plot 2: Changes by class transition\n",
    "    plt.figure(figsize=(10, 6))\n",
    "    \n",
    "    stable_to_unstable = analysis_df[analysis_df['original_class'] == 0]\n",
    "    unstable_to_stable = analysis_df[analysis_df['original_class'] == 1]\n",
    "    \n",
    "    x_pos = np.arange(3)\n",
    "    feature_types_clean = ['Load Features', 'Voltage Features', 'Flow Features']\n",
    "    \n",
    "    if len(stable_to_unstable) > 0:\n",
    "        stable_means = [stable_to_unstable['load_changes'].mean(), \n",
    "                      stable_to_unstable['voltage_changes'].mean(),\n",
    "                      stable_to_unstable['flow_changes'].mean()]\n",
    "        plt.bar(x_pos - 0.2, stable_means, 0.4, label='Stable → Unstable', alpha=0.7)\n",
    "    \n",
    "    if len(unstable_to_stable) > 0:\n",
    "        unstable_means = [unstable_to_stable['load_changes'].mean(), \n",
    "                         unstable_to_stable['voltage_changes'].mean(),\n",
    "                         unstable_to_stable['flow_changes'].mean()]\n",
    "        plt.bar(x_pos + 0.2, unstable_means, 0.4, label='Unstable → Stable', alpha=0.7)\n",
    "    \n",
    "    plt.xlabel('Feature Type')\n",
    "    plt.ylabel('Average Number of Changes')\n",
    "    plt.title('Average Feature Changes by Class Transition')\n",
    "    plt.xticks(x_pos, feature_types_clean)\n",
    "    plt.legend()\n",
    "    plt.grid(True, alpha=0.3)\n",
    "    \n",
    "    plt.tight_layout()\n",
    "    plt.savefig('counterfactual_class_transitions.png', dpi=300, bbox_inches='tight')\n",
    "    plt.show()\n",
    "    \n",
    "    print(\"✅ Visualizations saved as PNG files\")\n",
    "\n",
    "print(\"\\n🎯 Phase 3.2 Complete: Counterfactual explanations generated successfully!\")\n",
    "print(\"📁 Outputs:\")\n",
    "print(\"   - counterfactual_analysis.xlsx: Detailed counterfactual results\")\n",
    "print(\"   - counterfactual_feature_changes.png: Feature change distributions\")\n",
    "print(\"   - counterfactual_class_transitions.png: Changes by class transition\")"
   ]
  }
 ],
 "metadata": {
  "kernelspec": {
   "display_name": "Python 3",
   "language": "python",
   "name": "python3"
  },
  "language_info": {
   "codemirror_mode": {
    "name": "ipython",
    "version": 3
   },
   "file_extension": ".py",
   "mimetype": "text/x-python",
   "name": "python",
   "nbconvert_exporter": "python",
   "pygments_lexer": "ipython3",
   "version": "3.11.9"
  }
 },
 "nbformat": 4,
 "nbformat_minor": 5
}
